{
  "nbformat": 4,
  "nbformat_minor": 0,
  "metadata": {
    "colab": {
      "provenance": [],
      "authorship_tag": "ABX9TyPq2WdZYR5YP9eJT43VG6QX",
      "include_colab_link": true
    },
    "kernelspec": {
      "name": "python3",
      "display_name": "Python 3"
    },
    "language_info": {
      "name": "python"
    }
  },
  "cells": [
    {
      "cell_type": "markdown",
      "metadata": {
        "id": "view-in-github",
        "colab_type": "text"
      },
      "source": [
        "<a href=\"https://colab.research.google.com/github/saran2811/Python-programmes/blob/main/hotel_and_code_kata_basic.ipynb\" target=\"_parent\"><img src=\"https://colab.research.google.com/assets/colab-badge.svg\" alt=\"Open In Colab\"/></a>"
      ]
    },
    {
      "cell_type": "code",
      "execution_count": null,
      "metadata": {
        "id": "fkf3foAjCiSv"
      },
      "outputs": [],
      "source": [
        "class hotel:\n",
        "    def __init__(self):\n",
        "        self.data={}\n",
        "    def items(self,**data):\n",
        "        self.data.update(data)\n",
        "    def showmenu(self):\n",
        "         print('\\nMenu Items :\\n')\n",
        "         print('item         quatity')\n",
        "         for i in self.data:\n",
        "            print ('{0:15}  {1}'.format (i,self.data[i]))\n",
        "    \n",
        "class customer:\n",
        "    def __init__(self):\n",
        "        self.data={}\n",
        "    def selectitem(self):\n",
        "        print('Enter the item you like to order')\n",
        "        item=input()\n",
        "        print('Enter the quantity :')\n",
        "        quan=int(input())\n",
        "        for i in s.data:\n",
        "            if item==i:\n",
        "                if quan<=s.data[i]:\n",
        "                    print('Item added successful\\n')\n",
        "                    s.data[i]-=quan\n",
        "                    self.data[item]=quan\n",
        "                else:\n",
        "                    print('item not available\\n')\n",
        "    def showorder(self):\n",
        "        print('\\nOrdered items : '  )\n",
        "        print('item         quatity')\n",
        "        for i in self.data:\n",
        "            print('{0:15}  {1}'.format (i,self.data[i] ),'\\n')   \n",
        "    def Bill(self,**data):\n",
        "        self.price=data\n",
        "    def Receipt(self):\n",
        "        total =0\n",
        "        print('{0:13}  {1}  {2:7}'.format ('item','quantity','price'))\n",
        "        for i in self.data:\n",
        "               for j in self.price:\n",
        "                   if i==j:\n",
        "                       temp=self.price[j]*self.data[i]\n",
        "                       print('{0:15}  {1}  {2:9}'.format (i,self.data[i],(self.price[j]*self.data[i])))\n",
        "                       total+=temp\n",
        "        print('Total','{0:23}'.format(total))\n",
        "        Final=(total+(total*.05))\n",
        "        print('Total with GST','{0:16}'.format(round(Final,1)))\n",
        "        print('\\n')\n",
        "cus=customer()\n",
        "s=hotel()\n",
        "s.items(idly=int(input('Enter no of idly remaining : ')))\n",
        "s.items(chapathi=int(input('Enter no of chapathi remaining : ')))\n",
        "s.items(dosa=int(input('Enter dosa remaining : ')))\n",
        "s.items(pongal= int(input('Enter pongal remaining : ')))\n",
        "cus.Bill(idly=5,chapathi=15,dosa=40,pongal=40)\n",
        "print(s.data)\n",
        "print('\\nPrice of each item\\n',cus.price)\n",
        "\n",
        " \n",
        "\n",
        "while True:\n",
        "    try:\n",
        "        print('Select following :')\n",
        "        print('1- Show Menu : \\n2-Select order \\n3-customer orders \\n4-Bill')\n",
        "        i=int(input('Choose : '))\n",
        "        if i==1:\n",
        "            s.showmenu()\n",
        "            print('\\n')\n",
        "        if i==2:\n",
        "            cus.selectitem()\n",
        "        if i==3:\n",
        "            cus.showorder()\n",
        "        if i==4:\n",
        "            cus.Receipt()\n",
        "    \n",
        "    except ValueError:\n",
        "         print(\"\\nEnter correct data type\\n\")    \n",
        "         pass"
      ]
    },
    {
      "cell_type": "code",
      "source": [
        "A,B=map(int,input('Enter two numbers : ').split( ))\n",
        "if A>B:\n",
        "    print(A-B)\n",
        "else:\n",
        "  print(B-A)"
      ],
      "metadata": {
        "colab": {
          "base_uri": "https://localhost:8080/"
        },
        "id": "UIa1o6n1mdL2",
        "outputId": "494e4659-643a-4eb0-a5c6-de7ca7895c7b"
      },
      "execution_count": null,
      "outputs": [
        {
          "output_type": "stream",
          "name": "stdout",
          "text": [
            "Enter two numbers : 900 600\n",
            "300\n"
          ]
        }
      ]
    },
    {
      "cell_type": "code",
      "source": [
        "N=int(input())\n",
        "L,R=map(int,input().split())\n",
        "if N>L and N<R:\n",
        "    print('yes')\n",
        "else:\n",
        "    print('no')"
      ],
      "metadata": {
        "colab": {
          "base_uri": "https://localhost:8080/"
        },
        "id": "6kti2ddbq2GJ",
        "outputId": "f374c423-2dda-4087-9bf5-297069cf1207"
      },
      "execution_count": null,
      "outputs": [
        {
          "output_type": "stream",
          "name": "stdout",
          "text": [
            "9\n",
            "3 6\n",
            "no\n"
          ]
        }
      ]
    },
    {
      "cell_type": "code",
      "source": [
        "A,B=map(int,input().split())\n",
        "print(A**B)"
      ],
      "metadata": {
        "colab": {
          "base_uri": "https://localhost:8080/"
        },
        "id": "r8r3bmcNDwyY",
        "outputId": "a06ff809-8916-4b0b-d6e5-06f41a1ffa29"
      },
      "execution_count": null,
      "outputs": [
        {
          "output_type": "stream",
          "name": "stdout",
          "text": [
            "5 6\n",
            "15625\n"
          ]
        }
      ]
    },
    {
      "cell_type": "markdown",
      "source": [
        "\n",
        "Share\n",
        "Given 2 numbers N and K followed by elements of N .Print 'yes' if K exists else print 'no'.\n",
        "Sample Testcase :\n",
        "INPUT\n",
        "4 2\n",
        "1 2 3 3\n",
        "OUTPUT\n",
        "yes"
      ],
      "metadata": {
        "id": "RAKkd9AyVvug"
      }
    },
    {
      "cell_type": "code",
      "source": [
        "N,K=map(int,input().split())\n",
        "X=list(map(int,input().split()))\n",
        "count=0\n",
        "for j in range(len(X)):\n",
        "    if K==X[j]:\n",
        "        print('yes')\n",
        "        count+=1\n",
        "if count==0:\n",
        "    print('no')"
      ],
      "metadata": {
        "colab": {
          "base_uri": "https://localhost:8080/"
        },
        "id": "43-hL7v2NBnB",
        "outputId": "47e74770-9716-4412-f477-2322f66f57da"
      },
      "execution_count": null,
      "outputs": [
        {
          "output_type": "stream",
          "name": "stdout",
          "text": [
            "4 5\n",
            "1 2 3 5\n",
            "YES\n"
          ]
        }
      ]
    },
    {
      "cell_type": "code",
      "source": [],
      "metadata": {
        "id": "_e0TX6wuWzWh"
      },
      "execution_count": null,
      "outputs": []
    },
    {
      "cell_type": "markdown",
      "source": [
        "Given base(B) and height(H) of a triangle find its area."
      ],
      "metadata": {
        "id": "TXLe_PJdW0cN"
      }
    },
    {
      "cell_type": "code",
      "source": [
        "A,B=map(int,input().split())\n",
        "print(0.5*A*B)"
      ],
      "metadata": {
        "colab": {
          "base_uri": "https://localhost:8080/"
        },
        "id": "qqdVWPg7Vy5X",
        "outputId": "f284bcab-8f25-4e57-d961-7b357d0268ea"
      },
      "execution_count": null,
      "outputs": [
        {
          "output_type": "stream",
          "name": "stdout",
          "text": [
            "3 3\n",
            "4.5\n"
          ]
        }
      ]
    },
    {
      "cell_type": "markdown",
      "source": [
        "Given 2 numbers N,M. Print 'yes' if their product is a perfect square else print 'no'"
      ],
      "metadata": {
        "id": "YWGR-n7CW8rf"
      }
    },
    {
      "cell_type": "code",
      "source": [
        "A,B=map(int,input().split())\n",
        "C=(A*B)**0.5\n",
        "\n",
        "if (A*B)==((C)**2):\n",
        "    print('yes')\n",
        "else:\n",
        "    print('no')"
      ],
      "metadata": {
        "colab": {
          "base_uri": "https://localhost:8080/"
        },
        "id": "49YhXHY2XGOZ",
        "outputId": "aa66d7eb-00f0-4ca8-ff12-83fd0fec0d28"
      },
      "execution_count": null,
      "outputs": [
        {
          "output_type": "stream",
          "name": "stdout",
          "text": [
            "2 4\n",
            "no\n"
          ]
        }
      ]
    },
    {
      "cell_type": "markdown",
      "source": [
        "Given a number N, print 'yes' if it is composite else print 'no'."
      ],
      "metadata": {
        "id": "ECDp5w1CW9Rx"
      }
    },
    {
      "cell_type": "code",
      "source": [
        "A=int(input())\n",
        "count=0\n",
        "for i in range(2,A):\n",
        "    if (A%i)==0:\n",
        "       count+=1\n",
        "  \n",
        "if count!=0:\n",
        "    print('yes')\n",
        "else:\n",
        "    print('no')"
      ],
      "metadata": {
        "colab": {
          "base_uri": "https://localhost:8080/"
        },
        "id": "4ngAXwLfZ6mA",
        "outputId": "301a6c63-805f-4fbe-e85e-020e61e465b7"
      },
      "execution_count": null,
      "outputs": [
        {
          "output_type": "stream",
          "name": "stdout",
          "text": [
            "2\n",
            "no\n"
          ]
        }
      ]
    },
    {
      "cell_type": "markdown",
      "source": [
        "Given a range of 2 numbers (i.e) L and R count the number of prime numbers in the range (inclusive of L and R )."
      ],
      "metadata": {
        "id": "gL04ykhthTUN"
      }
    },
    {
      "cell_type": "code",
      "source": [
        "L,R=map(int,input().split())\n",
        "List1=[]\n",
        "count=0\n",
        "for i in range(L,R+1): \n",
        "    List1.append(i)\n",
        "    for j in range(2,i):\n",
        "        if (i%j)==0:\n",
        "            count+=1\n",
        "            break\n",
        "a=len(List1)-count\n",
        "print(a)"
      ],
      "metadata": {
        "colab": {
          "base_uri": "https://localhost:8080/"
        },
        "id": "VJkdeqCLhUoa",
        "outputId": "bd7156c9-37f1-4f94-89b8-1816f7fd2e27"
      },
      "execution_count": null,
      "outputs": [
        {
          "output_type": "stream",
          "name": "stdout",
          "text": [
            "2 5\n",
            "3\n"
          ]
        }
      ]
    },
    {
      "cell_type": "markdown",
      "source": [
        "Given 2 numbers N and K followed by N elements,print the number of repetition of K otherwise print '-1' if the element not found."
      ],
      "metadata": {
        "id": "ZBy3hBnMMYHm"
      }
    },
    {
      "cell_type": "code",
      "source": [
        "N,K=map(int,input().split())\n",
        "X=list(map(int,input().split()))\n",
        "count=-1\n",
        "for j in range(len(X)):\n",
        "    if K==X[j]:\n",
        "        count+=1\n",
        "if count==0:\n",
        "    print(count)\n",
        "else:   \n",
        "    print(count)"
      ],
      "metadata": {
        "colab": {
          "base_uri": "https://localhost:8080/"
        },
        "id": "BluwLiqWMmcZ",
        "outputId": "652f2d72-ef26-4b34-db32-ba6ea471948d"
      },
      "execution_count": null,
      "outputs": [
        {
          "output_type": "stream",
          "name": "stdout",
          "text": [
            "6 5 \n",
            "1 8 7 6 4 5\n",
            "0\n"
          ]
        }
      ]
    },
    {
      "cell_type": "markdown",
      "source": [
        "Given 3 numbers A,B,C process and print 'yes' if they can form the sides of a triangle otherwise print 'no'."
      ],
      "metadata": {
        "id": "bv5WcoDPUOei"
      }
    },
    {
      "cell_type": "code",
      "source": [
        "A,B,C=map(int,input().split())\n",
        "if A+B>C and B+C>A and C+A>B:\n",
        "    print('yes')\n",
        "else:\n",
        "    print('no')"
      ],
      "metadata": {
        "colab": {
          "base_uri": "https://localhost:8080/"
        },
        "id": "UlW3xUHsUTDu",
        "outputId": "02fe1ad0-10fd-4051-b29b-18162abf19ed"
      },
      "execution_count": null,
      "outputs": [
        {
          "output_type": "stream",
          "name": "stdout",
          "text": [
            "8 1 7\n",
            "no\n"
          ]
        }
      ]
    },
    {
      "cell_type": "markdown",
      "source": [
        "Write a code to get a integer n as input and calculate the smallest perfect power of 2 greater than n.\n",
        "Explanation\n",
        "The smallest perfect power of 2 greater than 48 is 64"
      ],
      "metadata": {
        "id": "n1fvvm9BVmpN"
      }
    },
    {
      "cell_type": "code",
      "source": [
        "n=int(input())\n",
        "n=n+1\n",
        "while n>0:\n",
        "    count=0\n",
        "    a=n\n",
        "    i=1\n",
        "    while i>0:\n",
        "        i+=1\n",
        "        if a%2==0:\n",
        "           a=a/2\n",
        "           count+=1\n",
        "        else:\n",
        "           break\n",
        "    if(2**count)==n:\n",
        "        print(n)\n",
        "        break\n",
        "    else:\n",
        "        n+=1"
      ],
      "metadata": {
        "id": "7xg2LJhcVtae",
        "colab": {
          "base_uri": "https://localhost:8080/"
        },
        "outputId": "b766c184-2b38-4ad3-c8fb-b5f92b260a1f"
      },
      "execution_count": null,
      "outputs": [
        {
          "output_type": "stream",
          "name": "stdout",
          "text": [
            "32\n",
            "64\n"
          ]
        }
      ]
    },
    {
      "cell_type": "markdown",
      "source": [
        "Given a string 'S' swap the even and odd characters starting from index 1(Assume the index starts from 0)."
      ],
      "metadata": {
        "id": "3peFNhv_w6aR"
      }
    },
    {
      "cell_type": "code",
      "source": [
        "A=input()\n",
        "B=''\n",
        "for i in range(0,len(A),2):\n",
        "    B+=A[i+1]+A[i]\n",
        "print(B)\n",
        "    "
      ],
      "metadata": {
        "colab": {
          "base_uri": "https://localhost:8080/"
        },
        "id": "tOt2jhraw3X6",
        "outputId": "815b350e-b16a-429b-d183-1e8e03d277c0"
      },
      "execution_count": null,
      "outputs": [
        {
          "output_type": "stream",
          "name": "stdout",
          "text": [
            "codekata\n",
            "ocedakat\n"
          ]
        }
      ]
    },
    {
      "cell_type": "markdown",
      "source": [
        "Given 2 numbers N and M add both the numbers and check whether the sum is odd or even"
      ],
      "metadata": {
        "id": "idVSKr_Dzkpx"
      }
    },
    {
      "cell_type": "code",
      "source": [
        "A,B=map(int,input().split())\n",
        "C=A+B\n",
        "if C==0:\n",
        "    print('even')\n",
        "if C>0:\n",
        "    if C%2==0:\n",
        "        print('even')\n",
        "    else:\n",
        "        print('odd')"
      ],
      "metadata": {
        "colab": {
          "base_uri": "https://localhost:8080/"
        },
        "id": "8Kwz02StzmCc",
        "outputId": "15d88bfa-9669-4cfe-e170-c3d78a7c6b16"
      },
      "execution_count": null,
      "outputs": [
        {
          "output_type": "stream",
          "name": "stdout",
          "text": [
            "9 2\n",
            "odd\n"
          ]
        }
      ]
    },
    {
      "cell_type": "markdown",
      "source": [
        "Given a number N and an array of N elements ,find the Bitwise AND of the array elements."
      ],
      "metadata": {
        "id": "NS2egbm-2RWk"
      }
    },
    {
      "cell_type": "code",
      "source": [
        "\n",
        "n=int(input())\n",
        "a = list(map(int,input().strip().split()))[:n]#[:n] it is a slicing operator\n",
        "A=a[0]\n",
        "for i in range(0,len(a)-1):\n",
        "     A&=a[i+1]\n",
        "print(a,A)\n",
        "\n",
        "    \n",
        "  "
      ],
      "metadata": {
        "colab": {
          "base_uri": "https://localhost:8080/"
        },
        "id": "aImO_MVj2U71",
        "outputId": "f066b635-b5c9-4e5f-e1b8-39fd279adc2b"
      },
      "execution_count": null,
      "outputs": [
        {
          "output_type": "stream",
          "name": "stdout",
          "text": [
            "4\n",
            " 4  3  2  1\n",
            "[4, 3, 2, 1] 0\n"
          ]
        }
      ]
    },
    {
      "cell_type": "code",
      "source": [
        "s = [1,2,3,4] \n",
        "print(s[0:3]) \n",
        "\n",
        "#Now if I change the slicing value \n",
        "print(s[:2] ) \n"
      ],
      "metadata": {
        "colab": {
          "base_uri": "https://localhost:8080/"
        },
        "id": "bDVKWNufr-JP",
        "outputId": "79a83dce-9a6e-455a-b405-635585c07cd8"
      },
      "execution_count": null,
      "outputs": [
        {
          "output_type": "stream",
          "name": "stdout",
          "text": [
            "[1, 2, 3]\n",
            "[1, 2]\n"
          ]
        }
      ]
    },
    {
      "cell_type": "markdown",
      "source": [
        "Given a number N and an array of N elements, find the Bitwise OR of the array elements."
      ],
      "metadata": {
        "id": "2raHTDz6tHes"
      }
    },
    {
      "cell_type": "code",
      "source": [
        "N=int(input())\n",
        "a=list(map(int,input().strip().split()))[:N]\n",
        "A=a[0]\n",
        "for i in range(len(a)-1):\n",
        "     A|=a[i+1]\n",
        "print(A)"
      ],
      "metadata": {
        "colab": {
          "base_uri": "https://localhost:8080/"
        },
        "id": "ExnchFsusJhs",
        "outputId": "55985cb9-6fd7-4e8b-eb16-8d087225abad"
      },
      "execution_count": null,
      "outputs": [
        {
          "output_type": "stream",
          "name": "stdout",
          "text": [
            "2\n",
            "2 4 6\n",
            "6\n"
          ]
        }
      ]
    },
    {
      "cell_type": "markdown",
      "source": [
        "Given 3 numbers A,B,C print 'yes' if they can form the sides of a right angled triangle,otherwise 'no'."
      ],
      "metadata": {
        "id": "aE12F9d9u3D9"
      }
    },
    {
      "cell_type": "code",
      "source": [
        "A,B,C=map(int,input().split())\n",
        "A1=min(A,B,C)\n",
        "C1=max(A,B,C)\n",
        "B1=(A+B+C)-A1-C1\n",
        "if (C1**2)==(A1**2+B1**2):\n",
        "    print('yes')\n",
        "else:\n",
        "    print('no')"
      ],
      "metadata": {
        "colab": {
          "base_uri": "https://localhost:8080/"
        },
        "id": "IhcQ7Ifju5Rf",
        "outputId": "1f61a80d-1682-4398-f845-4d31867d71a0"
      },
      "execution_count": null,
      "outputs": [
        {
          "output_type": "stream",
          "name": "stdout",
          "text": [
            "3 4 5\n",
            "yes\n"
          ]
        }
      ]
    },
    {
      "cell_type": "markdown",
      "source": [
        "Find the minimum among 10 numbers."
      ],
      "metadata": {
        "id": "ZMaKNYmoyps_"
      }
    },
    {
      "cell_type": "code",
      "source": [
        "L=list(map(int,input().strip().split()))[:10]\n",
        "print(min(L))"
      ],
      "metadata": {
        "colab": {
          "base_uri": "https://localhost:8080/"
        },
        "id": "Lpopc1nzytV6",
        "outputId": "7d39a3a1-c542-437a-9ef1-d9f82c71405c"
      },
      "execution_count": null,
      "outputs": [
        {
          "output_type": "stream",
          "name": "stdout",
          "text": [
            "5 4 3 2 1 7 6 10 8 9\n",
            "1\n"
          ]
        }
      ]
    },
    {
      "cell_type": "markdown",
      "source": [
        "Given 2 numbers N,M find the GCD of N and M.If it cannot be found for given number(s) then print -1"
      ],
      "metadata": {
        "id": "I_0dWfaHyr2g"
      }
    },
    {
      "cell_type": "code",
      "source": [
        "\n",
        "A,B=map(int,input().split())\n",
        "C=min(A,B)\n",
        "M=max(A,B)\n",
        "if C>0:\n",
        "    for i in range (2,C+1):\n",
        "         E=A%i\n",
        "         D=B%i\n",
        "         if E==D:\n",
        "            print(i)\n",
        "            break\n",
        "if C<0:\n",
        "    for i in range (1,M+1):   \n",
        "        E=abs(A%i)\n",
        "        D=abs(B%i)\n",
        "        if E==D:\n",
        "            print(i)\n",
        "            break\n",
        "else:\n",
        "    print(-1)"
      ],
      "metadata": {
        "colab": {
          "base_uri": "https://localhost:8080/"
        },
        "id": "TRH9oZfJP_RT",
        "outputId": "1f0fe052-c2fc-4545-a5ce-a0e53a0b1e70"
      },
      "execution_count": null,
      "outputs": [
        {
          "output_type": "stream",
          "name": "stdout",
          "text": [
            "37 -73\n",
            "1\n"
          ]
        }
      ]
    },
    {
      "cell_type": "markdown",
      "source": [
        "Given a number N, print the Bitwise NOT of that number"
      ],
      "metadata": {
        "id": "kltNkydAs9zp"
      }
    },
    {
      "cell_type": "code",
      "source": [
        "N=int(input())\n",
        "print(~N)"
      ],
      "metadata": {
        "colab": {
          "base_uri": "https://localhost:8080/"
        },
        "id": "wV2CuY25tBBD",
        "outputId": "03a1eb0f-ecae-4587-de8b-943669d073dd"
      },
      "execution_count": null,
      "outputs": [
        {
          "output_type": "stream",
          "name": "stdout",
          "text": [
            "5\n",
            "-6\n"
          ]
        }
      ]
    },
    {
      "cell_type": "markdown",
      "source": [
        "Given 3 numbers A,B,C print 'yes' if they can form the sides of a scalene triangle else print 'no'."
      ],
      "metadata": {
        "id": "lFi6aMWzveGQ"
      }
    },
    {
      "cell_type": "code",
      "source": [
        "A,B,C=map(int,input().split())\n",
        "if A+B>C and B+C>A and C+A>B:   \n",
        "    if A!=B and B!=C and C!=A:\n",
        "        print('yes')\n",
        "    else:\n",
        "        print('no')"
      ],
      "metadata": {
        "colab": {
          "base_uri": "https://localhost:8080/"
        },
        "id": "qGK9aeHrvpiz",
        "outputId": "957ad76d-ae88-40d3-c14f-9e453b7a9218"
      },
      "execution_count": null,
      "outputs": [
        {
          "output_type": "stream",
          "name": "stdout",
          "text": [
            "3 4 4\n",
            "no\n"
          ]
        }
      ]
    },
    {
      "cell_type": "markdown",
      "source": [
        "Given a number N followed by N numbers.Find the smallest number and largest number and print both the indices(1 based indexing)."
      ],
      "metadata": {
        "id": "E63cueInw50L"
      }
    },
    {
      "cell_type": "code",
      "source": [
        "N=int(input())\n",
        "L=list(map(int,input().strip().split()))[:N]\n",
        "print(L.index(min(L))+1,L.index(max(L))+1)"
      ],
      "metadata": {
        "colab": {
          "base_uri": "https://localhost:8080/"
        },
        "id": "H4HOTeqmw7si",
        "outputId": "2ce58e38-c25f-47bf-fc72-04394c164a53"
      },
      "execution_count": null,
      "outputs": [
        {
          "output_type": "stream",
          "name": "stdout",
          "text": [
            "5\n",
            "1 2 3 4 5\n",
            "1 5\n"
          ]
        },
        {
          "output_type": "execute_result",
          "data": {
            "text/plain": [
              "<function print>"
            ]
          },
          "metadata": {},
          "execution_count": 70
        }
      ]
    },
    {
      "cell_type": "markdown",
      "source": [
        "Check whether the given 4 points form a square or not"
      ],
      "metadata": {
        "id": "jondKCUxzpme"
      }
    },
    {
      "cell_type": "code",
      "source": [
        "A,B=map(int,input().split())\n",
        "C,D=map(int,input().split())\n",
        "E,F=map(int,input().split())\n",
        "G,H=map(int,input().split())\n",
        "while True:\n",
        "    AB=(((C-A)**2+(D-B)**2))**.5\n",
        "    BC=(((E-C)**2+(F-D)**2))**.5\n",
        "    CD=(((G-E)**2+(H-F)**2))**.5\n",
        "    DA=(((A-G)**2+(B-H)**2))**.5\n",
        "    AC=(((E-A)**2+(F-B)**2))**.5\n",
        "    BD=(((G-C)**2+(H-D)**2))**.5\n",
        "    if AB==BC==CD==DA and AC==BD:\n",
        "        print('yes')\n",
        "        break\n",
        "    else:\n",
        "        print('no')\n",
        "        break"
      ],
      "metadata": {
        "colab": {
          "base_uri": "https://localhost:8080/"
        },
        "id": "rOr9XQknzq-X",
        "outputId": "04122447-8680-471b-945b-128732ff9bcb"
      },
      "execution_count": null,
      "outputs": [
        {
          "output_type": "stream",
          "name": "stdout",
          "text": [
            "10 10\n",
            "10 20\n",
            "20 20\n",
            "20 10\n",
            "yes\n"
          ]
        }
      ]
    },
    {
      "cell_type": "markdown",
      "source": [
        "Given a string S consisting of 2 words reverse the order of two words"
      ],
      "metadata": {
        "id": "U1OgxNU9_bSh"
      }
    },
    {
      "cell_type": "code",
      "source": [
        "A,B=input().split()\n",
        "print(B,A)"
      ],
      "metadata": {
        "colab": {
          "base_uri": "https://localhost:8080/"
        },
        "id": "Dt24F1Z-1vuP",
        "outputId": "9b17889f-bbd9-41a2-e27b-266d3d48cd94"
      },
      "execution_count": null,
      "outputs": [
        {
          "output_type": "stream",
          "name": "stdout",
          "text": [
            "hello world\n",
            "world hello\n"
          ]
        }
      ]
    },
    {
      "cell_type": "markdown",
      "source": [
        "Write a code to get 2 integers as input and add the integers without any carry."
      ],
      "metadata": {
        "id": "fD6qK7B7oxlk"
      }
    },
    {
      "cell_type": "code",
      "source": [
        "A,B=map(int,input().split())\n",
        "count=0\n",
        "M=len(str(max(A,B)))\n",
        "for i in range(M):\n",
        "     C=((A%10)+(B%10))     \n",
        "     A=A//10    \n",
        "     B=B//10   \n",
        "     if i==0:\n",
        "        if C>9:\n",
        "            C=C%10\n",
        "            count+=C\n",
        "        else:\n",
        "            count+= C\n",
        "     if i>0:\n",
        "        if C>9:            \n",
        "            C=C%10 \n",
        "            C=C*(10**i)\n",
        "            count+=C\n",
        "        else: \n",
        "            C=C*(10**i)\n",
        "            count+= C\n",
        "print(count)"
      ],
      "metadata": {
        "colab": {
          "base_uri": "https://localhost:8080/"
        },
        "id": "tvZELowZo6P3",
        "outputId": "8caedd79-6516-4a4a-c523-7c44107f17f2"
      },
      "execution_count": null,
      "outputs": [
        {
          "output_type": "stream",
          "name": "stdout",
          "text": [
            "333 34\n",
            "367\n"
          ]
        }
      ]
    },
    {
      "cell_type": "markdown",
      "source": [
        "The Caesar Cipher technique is one of the earliest and simplest method of encryption technique. It’s simply a type of substitution cipher, i.e., each letter of a given text is replaced by a letter some fixed number of positions down the alphabet. For example with a shift of 1, A would be replaced by B, B would become C, and so on. The method is apparently named after Julius Caesar, who apparently used it to communicate with his officials.For the given input string(S) and shift print the encrypted string."
      ],
      "metadata": {
        "id": "EIp9QKVARGHK"
      }
    },
    {
      "cell_type": "code",
      "source": [
        "A,B=input().spilt()\n",
        "B=int(B)\n",
        "result=''\n",
        "for i in range(len(A)):\n",
        "    if A[i].isupper:\n",
        "        C=chr((ord(A[i])"
      ],
      "metadata": {
        "colab": {
          "base_uri": "https://localhost:8080/",
          "height": 301
        },
        "id": "2U-CKY1DRKda",
        "outputId": "0d823fea-7ac8-47d1-e459-a60aeb2eec98"
      },
      "execution_count": null,
      "outputs": [
        {
          "name": "stdout",
          "output_type": "stream",
          "text": [
            "Saran raj\n",
            "4\n"
          ]
        },
        {
          "output_type": "error",
          "ename": "TypeError",
          "evalue": "ignored",
          "traceback": [
            "\u001b[0;31m---------------------------------------------------------------------------\u001b[0m",
            "\u001b[0;31mTypeError\u001b[0m                                 Traceback (most recent call last)",
            "\u001b[0;32m<ipython-input-11-c270e30a7988>\u001b[0m in \u001b[0;36m<module>\u001b[0;34m\u001b[0m\n\u001b[0;32m----> 1\u001b[0;31m \u001b[0mA\u001b[0m\u001b[0;34m,\u001b[0m\u001b[0mB\u001b[0m\u001b[0;34m=\u001b[0m\u001b[0mmap\u001b[0m\u001b[0;34m(\u001b[0m\u001b[0minput\u001b[0m\u001b[0;34m(\u001b[0m\u001b[0;34m)\u001b[0m\u001b[0;34m,\u001b[0m\u001b[0mint\u001b[0m\u001b[0;34m(\u001b[0m\u001b[0minput\u001b[0m\u001b[0;34m(\u001b[0m\u001b[0;34m)\u001b[0m\u001b[0;34m)\u001b[0m\u001b[0;34m)\u001b[0m\u001b[0;34m\u001b[0m\u001b[0;34m\u001b[0m\u001b[0m\n\u001b[0m",
            "\u001b[0;31mTypeError\u001b[0m: 'int' object is not iterable"
          ]
        }
      ]
    },
    {
      "cell_type": "markdown",
      "source": [
        "Given a list of N coins, their values (V1, V2, … , VN), and the total sum S. Find the minimum number of coins the sum of which is S (we can use as many coins of one type as we want), if it is not possible to select coins in such a way that they sum up to S then print '-1'."
      ],
      "metadata": {
        "id": "D6Fy9alPY3Ie"
      }
    },
    {
      "cell_type": "code",
      "source": [
        "N,S=map(int,input().split())\n",
        "V=list(map(int,input().split()))[:N]\n",
        "count=0\n",
        "k=0\n",
        "V.sort(reverse=True)\n",
        "for i in range(len(V)):\n",
        "      while V[i]<=S:\n",
        "           S-=V[i]\n",
        "           k=k+V[i]\n",
        "           count+=1\n",
        "print(count)"
      ],
      "metadata": {
        "colab": {
          "base_uri": "https://localhost:8080/"
        },
        "id": "MGxa3hCOY4sb",
        "outputId": "37d08304-2feb-43db-d01d-3a0539a56588"
      },
      "execution_count": null,
      "outputs": [
        {
          "output_type": "stream",
          "name": "stdout",
          "text": [
            "3 11\n",
            "1 3 5\n",
            "3\n"
          ]
        }
      ]
    },
    {
      "cell_type": "markdown",
      "source": [
        "Let P represent Paper, R represent Rock and S represent Scissors. Given 2 out of the 3 determine which one wins. If its a draw print 'D'."
      ],
      "metadata": {
        "id": "iZbyUx23v7Sb"
      }
    },
    {
      "cell_type": "code",
      "source": [
        "import random\n",
        "A=list(input().split())\n",
        "X=[]\n",
        "for i in range(3): \n",
        "    if A[0]!=A[1]:\n",
        "        L= random.choice(A)\n",
        "        X.append(L)\n",
        "    else:\n",
        "        print('D')\n",
        "        break\n",
        "    for i in range(1):\n",
        "        if X[i]==X[i+1] or X[i+2]:\n",
        "            print(X[i])\n",
        "        else:\n",
        "            print('D')"
      ],
      "metadata": {
        "colab": {
          "base_uri": "https://localhost:8080/"
        },
        "id": "AWpGKyTKv9Ov",
        "outputId": "634a3d1c-f689-475c-9ccf-79646e8845e6"
      },
      "execution_count": null,
      "outputs": [
        {
          "output_type": "stream",
          "name": "stdout",
          "text": [
            "R R\n",
            "D\n"
          ]
        }
      ]
    },
    {
      "cell_type": "markdown",
      "source": [
        "Given an array of N elements switch(swap) the element with the adjacent element and print the output."
      ],
      "metadata": {
        "id": "fbr1at6IDZ5I"
      }
    },
    {
      "cell_type": "code",
      "source": [
        "N=int(input())\n",
        "L=list(map(int,input().split()))[:N]\n",
        "for i in range(0,len(L),2): \n",
        "    try:\n",
        "        L[i],L[i+1]=L[i+1],L[i]\n",
        "    except IndexError:\n",
        "        pass\n",
        "print(*L)"
      ],
      "metadata": {
        "colab": {
          "base_uri": "https://localhost:8080/"
        },
        "id": "l7iI659IDa9n",
        "outputId": "02fb5e0f-85ba-4e93-a2c6-dbae8fa7ce90"
      },
      "execution_count": null,
      "outputs": [
        {
          "output_type": "stream",
          "name": "stdout",
          "text": [
            "5\n",
            "1 2 3 4 5\n",
            "[2, 1, 4, 3, 5]\n"
          ]
        }
      ]
    },
    {
      "cell_type": "code",
      "source": [
        "dir(dict)"
      ],
      "metadata": {
        "id": "CAx-Jk6hEdUt",
        "outputId": "0f7daa78-afd3-4de3-f35f-c83ed136a292",
        "colab": {
          "base_uri": "https://localhost:8080/"
        }
      },
      "execution_count": null,
      "outputs": [
        {
          "output_type": "execute_result",
          "data": {
            "text/plain": [
              "['__class__',\n",
              " '__contains__',\n",
              " '__delattr__',\n",
              " '__delitem__',\n",
              " '__dir__',\n",
              " '__doc__',\n",
              " '__eq__',\n",
              " '__format__',\n",
              " '__ge__',\n",
              " '__getattribute__',\n",
              " '__getitem__',\n",
              " '__gt__',\n",
              " '__hash__',\n",
              " '__init__',\n",
              " '__init_subclass__',\n",
              " '__iter__',\n",
              " '__le__',\n",
              " '__len__',\n",
              " '__lt__',\n",
              " '__ne__',\n",
              " '__new__',\n",
              " '__reduce__',\n",
              " '__reduce_ex__',\n",
              " '__repr__',\n",
              " '__setattr__',\n",
              " '__setitem__',\n",
              " '__sizeof__',\n",
              " '__str__',\n",
              " '__subclasshook__',\n",
              " 'clear',\n",
              " 'copy',\n",
              " 'fromkeys',\n",
              " 'get',\n",
              " 'items',\n",
              " 'keys',\n",
              " 'pop',\n",
              " 'popitem',\n",
              " 'setdefault',\n",
              " 'update',\n",
              " 'values']"
            ]
          },
          "metadata": {},
          "execution_count": 1
        }
      ]
    }
  ]
}